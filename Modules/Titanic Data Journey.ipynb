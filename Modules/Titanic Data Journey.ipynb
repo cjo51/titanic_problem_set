{
 "cells": [
  {
   "cell_type": "markdown",
   "id": "f7412b1e",
   "metadata": {
    "_cell_guid": "b1076dfc-b9ad-4769-8c92-a6c4dae69d19",
    "_uuid": "8f2839f25d086af736a60e9eeb907d3b93b6e0e5",
    "papermill": {
     "duration": 0.030327,
     "end_time": "2023-04-09T13:32:42.484011",
     "exception": false,
     "start_time": "2023-04-09T13:32:42.453684",
     "status": "completed"
    },
    "tags": []
   },
   "source": [
    "# Introduction\n",
    "\n",
    "\n"
   ]
  },
  {
   "cell_type": "markdown",
   "id": "5c2ad415",
   "metadata": {
    "papermill": {
     "duration": 0.028031,
     "end_time": "2023-04-09T13:32:42.542918",
     "exception": false,
     "start_time": "2023-04-09T13:32:42.514887",
     "status": "completed"
    },
    "tags": []
   },
   "source": [
    "# Prepare for analysis"
   ]
  },
  {
   "cell_type": "markdown",
   "id": "50df0fc0",
   "metadata": {
    "papermill": {
     "duration": 0.028674,
     "end_time": "2023-04-09T13:32:42.600096",
     "exception": false,
     "start_time": "2023-04-09T13:32:42.571422",
     "status": "completed"
    },
    "tags": []
   },
   "source": [
    "## Load packages"
   ]
  },
  {
   "cell_type": "code",
   "execution_count": null,
   "id": "fa7d1e62",
   "metadata": {
    "execution": {
     "iopub.execute_input": "2023-04-09T13:32:42.658631Z",
     "iopub.status.busy": "2023-04-09T13:32:42.658243Z",
     "iopub.status.idle": "2023-04-09T13:32:43.844858Z",
     "shell.execute_reply": "2023-04-09T13:32:43.843860Z"
    },
    "papermill": {
     "duration": 1.219251,
     "end_time": "2023-04-09T13:32:43.847758",
     "exception": false,
     "start_time": "2023-04-09T13:32:42.628507",
     "status": "completed"
    },
    "tags": []
   },
   "outputs": [],
   "source": [
    "import pandas as pd\n",
    "import numpy as np\n",
    "from pathlib import Path\n",
    "import matplotlib.pyplot as plt\n",
    "from matplotlib.colors import ListedColormap\n",
    "import seaborn as sns\n",
    "from wordcloud import WordCloud, STOPWORDS\n",
    "\n",
    "from sklearn.model_selection import train_test_split\n",
    "from sklearn import metrics\n",
    "from sklearn.metrics import roc_auc_score\n",
    "from sklearn.ensemble import RandomForestClassifier\n",
    "\n",
    "from load_data import load_data\n",
    "from load_data import combine_train_test\n",
    "\n",
    "from study_data import missing_data\n",
    "from study_data import most_frequent_data\n",
    "from study_data import unique_values\n",
    "from study_data import unique_values_summary\n",
    "\n",
    "from clean_data import add_family_size, add_age_interval, add_fare_interval_column, add_sex_pclass\n",
    "from clean_data import extract_names, parse_names, add_family_type_column, assign_family_type\n",
    "from clean_data import unify_titles, calculate_survival_rate_by_title_and_sex, map_sex_column\n",
    "\n",
    "import ML\n"
   ]
  },
  {
   "cell_type": "code",
   "execution_count": 2,
   "id": "5c63da5c",
   "metadata": {},
   "outputs": [],
   "source": [
    "# TODO: Add all hard coded parameters like file paths or model parameters here\n",
    "TRAIN_PATH = \"/home/trapfishscott/Cambridge24.25/D400_FODS/titanic_problem_set/train.csv\"\n",
    "TEST_PATH = \"/home/trapfishscott/Cambridge24.25/D400_FODS/titanic_problem_set/test.csv\""
   ]
  },
  {
   "cell_type": "markdown",
   "id": "03f839a8",
   "metadata": {
    "papermill": {
     "duration": 0.028234,
     "end_time": "2023-04-09T13:32:43.904366",
     "exception": false,
     "start_time": "2023-04-09T13:32:43.876132",
     "status": "completed"
    },
    "tags": []
   },
   "source": [
    "## Read the data"
   ]
  },
  {
   "cell_type": "code",
   "execution_count": 3,
   "id": "f06e7866",
   "metadata": {
    "execution": {
     "iopub.execute_input": "2023-04-09T13:32:43.963330Z",
     "iopub.status.busy": "2023-04-09T13:32:43.962934Z",
     "iopub.status.idle": "2023-04-09T13:32:43.993431Z",
     "shell.execute_reply": "2023-04-09T13:32:43.992254Z"
    },
    "papermill": {
     "duration": 0.063255,
     "end_time": "2023-04-09T13:32:43.996250",
     "exception": false,
     "start_time": "2023-04-09T13:32:43.932995",
     "status": "completed"
    },
    "tags": []
   },
   "outputs": [],
   "source": [
    "train_df = load_data(TRAIN_PATH)\n",
    "\n",
    "# TODO: Put the path at the top of the script and replace with variable\n",
    "test_df = load_data(TRAIN_PATH) "
   ]
  },
  {
   "cell_type": "markdown",
   "id": "629f60bc",
   "metadata": {
    "papermill": {
     "duration": 0.028027,
     "end_time": "2023-04-09T13:32:44.052623",
     "exception": false,
     "start_time": "2023-04-09T13:32:44.024596",
     "status": "completed"
    },
    "tags": []
   },
   "source": [
    "# Preliminary data inspection"
   ]
  },
  {
   "cell_type": "markdown",
   "id": "26354e31",
   "metadata": {
    "papermill": {
     "duration": 0.028388,
     "end_time": "2023-04-09T13:32:44.110277",
     "exception": false,
     "start_time": "2023-04-09T13:32:44.081889",
     "status": "completed"
    },
    "tags": []
   },
   "source": [
    "## Quick glimpse of the data\n",
    "Comment out as needed."
   ]
  },
  {
   "cell_type": "code",
   "execution_count": 4,
   "id": "d80c7cf0",
   "metadata": {
    "execution": {
     "iopub.execute_input": "2023-04-09T13:32:44.169495Z",
     "iopub.status.busy": "2023-04-09T13:32:44.168457Z",
     "iopub.status.idle": "2023-04-09T13:32:44.199987Z",
     "shell.execute_reply": "2023-04-09T13:32:44.198640Z"
    },
    "papermill": {
     "duration": 0.06465,
     "end_time": "2023-04-09T13:32:44.203227",
     "exception": false,
     "start_time": "2023-04-09T13:32:44.138577",
     "status": "completed"
    },
    "tags": []
   },
   "outputs": [],
   "source": [
    "\n",
    "# train_df.head()\n",
    "# test_df.head()\n",
    "\n",
    "# train_df.info()\n",
    "# test_df.info()\n",
    "\n",
    "# train_df.describe()\n",
    "# test_df.describe()"
   ]
  },
  {
   "cell_type": "markdown",
   "id": "fb886bb0",
   "metadata": {
    "papermill": {
     "duration": 0.029351,
     "end_time": "2023-04-09T13:32:44.706536",
     "exception": false,
     "start_time": "2023-04-09T13:32:44.677185",
     "status": "completed"
    },
    "tags": []
   },
   "source": [
    "## Few statistics on the data"
   ]
  },
  {
   "cell_type": "markdown",
   "id": "5b97cad3",
   "metadata": {
    "papermill": {
     "duration": 0.029214,
     "end_time": "2023-04-09T13:32:44.766549",
     "exception": false,
     "start_time": "2023-04-09T13:32:44.737335",
     "status": "completed"
    },
    "tags": []
   },
   "source": [
    "### Missing data"
   ]
  },
  {
   "cell_type": "code",
   "execution_count": 5,
   "id": "96ed7049",
   "metadata": {},
   "outputs": [
    {
     "data": {
      "text/html": [
       "<div>\n",
       "<style scoped>\n",
       "    .dataframe tbody tr th:only-of-type {\n",
       "        vertical-align: middle;\n",
       "    }\n",
       "\n",
       "    .dataframe tbody tr th {\n",
       "        vertical-align: top;\n",
       "    }\n",
       "\n",
       "    .dataframe thead th {\n",
       "        text-align: right;\n",
       "    }\n",
       "</style>\n",
       "<table border=\"1\" class=\"dataframe\">\n",
       "  <thead>\n",
       "    <tr style=\"text-align: right;\">\n",
       "      <th></th>\n",
       "      <th>Total</th>\n",
       "      <th>Percent</th>\n",
       "      <th>Types</th>\n",
       "    </tr>\n",
       "  </thead>\n",
       "  <tbody>\n",
       "    <tr>\n",
       "      <th>PassengerId</th>\n",
       "      <td>0</td>\n",
       "      <td>0.000000</td>\n",
       "      <td>int64</td>\n",
       "    </tr>\n",
       "    <tr>\n",
       "      <th>Survived</th>\n",
       "      <td>0</td>\n",
       "      <td>0.000000</td>\n",
       "      <td>int64</td>\n",
       "    </tr>\n",
       "    <tr>\n",
       "      <th>Pclass</th>\n",
       "      <td>0</td>\n",
       "      <td>0.000000</td>\n",
       "      <td>int64</td>\n",
       "    </tr>\n",
       "    <tr>\n",
       "      <th>Name</th>\n",
       "      <td>0</td>\n",
       "      <td>0.000000</td>\n",
       "      <td>object</td>\n",
       "    </tr>\n",
       "    <tr>\n",
       "      <th>Sex</th>\n",
       "      <td>0</td>\n",
       "      <td>0.000000</td>\n",
       "      <td>object</td>\n",
       "    </tr>\n",
       "    <tr>\n",
       "      <th>Age</th>\n",
       "      <td>177</td>\n",
       "      <td>19.865320</td>\n",
       "      <td>float64</td>\n",
       "    </tr>\n",
       "    <tr>\n",
       "      <th>SibSp</th>\n",
       "      <td>0</td>\n",
       "      <td>0.000000</td>\n",
       "      <td>int64</td>\n",
       "    </tr>\n",
       "    <tr>\n",
       "      <th>Parch</th>\n",
       "      <td>0</td>\n",
       "      <td>0.000000</td>\n",
       "      <td>int64</td>\n",
       "    </tr>\n",
       "    <tr>\n",
       "      <th>Ticket</th>\n",
       "      <td>0</td>\n",
       "      <td>0.000000</td>\n",
       "      <td>object</td>\n",
       "    </tr>\n",
       "    <tr>\n",
       "      <th>Fare</th>\n",
       "      <td>0</td>\n",
       "      <td>0.000000</td>\n",
       "      <td>float64</td>\n",
       "    </tr>\n",
       "    <tr>\n",
       "      <th>Cabin</th>\n",
       "      <td>687</td>\n",
       "      <td>77.104377</td>\n",
       "      <td>object</td>\n",
       "    </tr>\n",
       "    <tr>\n",
       "      <th>Embarked</th>\n",
       "      <td>2</td>\n",
       "      <td>0.224467</td>\n",
       "      <td>object</td>\n",
       "    </tr>\n",
       "  </tbody>\n",
       "</table>\n",
       "</div>"
      ],
      "text/plain": [
       "             Total    Percent    Types\n",
       "PassengerId      0   0.000000    int64\n",
       "Survived         0   0.000000    int64\n",
       "Pclass           0   0.000000    int64\n",
       "Name             0   0.000000   object\n",
       "Sex              0   0.000000   object\n",
       "Age            177  19.865320  float64\n",
       "SibSp            0   0.000000    int64\n",
       "Parch            0   0.000000    int64\n",
       "Ticket           0   0.000000   object\n",
       "Fare             0   0.000000  float64\n",
       "Cabin          687  77.104377   object\n",
       "Embarked         2   0.224467   object"
      ]
     },
     "execution_count": 5,
     "metadata": {},
     "output_type": "execute_result"
    }
   ],
   "source": [
    "## Missing training data\n",
    "missing_data(train_df)\n"
   ]
  },
  {
   "cell_type": "code",
   "execution_count": 6,
   "id": "c372cbd4",
   "metadata": {
    "execution": {
     "iopub.execute_input": "2023-04-09T13:32:44.986374Z",
     "iopub.status.busy": "2023-04-09T13:32:44.985655Z",
     "iopub.status.idle": "2023-04-09T13:32:45.011350Z",
     "shell.execute_reply": "2023-04-09T13:32:45.010181Z"
    },
    "papermill": {
     "duration": 0.05972,
     "end_time": "2023-04-09T13:32:45.014135",
     "exception": false,
     "start_time": "2023-04-09T13:32:44.954415",
     "status": "completed"
    },
    "tags": []
   },
   "outputs": [
    {
     "data": {
      "text/html": [
       "<div>\n",
       "<style scoped>\n",
       "    .dataframe tbody tr th:only-of-type {\n",
       "        vertical-align: middle;\n",
       "    }\n",
       "\n",
       "    .dataframe tbody tr th {\n",
       "        vertical-align: top;\n",
       "    }\n",
       "\n",
       "    .dataframe thead th {\n",
       "        text-align: right;\n",
       "    }\n",
       "</style>\n",
       "<table border=\"1\" class=\"dataframe\">\n",
       "  <thead>\n",
       "    <tr style=\"text-align: right;\">\n",
       "      <th></th>\n",
       "      <th>Total</th>\n",
       "      <th>Percent</th>\n",
       "      <th>Types</th>\n",
       "    </tr>\n",
       "  </thead>\n",
       "  <tbody>\n",
       "    <tr>\n",
       "      <th>PassengerId</th>\n",
       "      <td>0</td>\n",
       "      <td>0.000000</td>\n",
       "      <td>int64</td>\n",
       "    </tr>\n",
       "    <tr>\n",
       "      <th>Survived</th>\n",
       "      <td>0</td>\n",
       "      <td>0.000000</td>\n",
       "      <td>int64</td>\n",
       "    </tr>\n",
       "    <tr>\n",
       "      <th>Pclass</th>\n",
       "      <td>0</td>\n",
       "      <td>0.000000</td>\n",
       "      <td>int64</td>\n",
       "    </tr>\n",
       "    <tr>\n",
       "      <th>Name</th>\n",
       "      <td>0</td>\n",
       "      <td>0.000000</td>\n",
       "      <td>object</td>\n",
       "    </tr>\n",
       "    <tr>\n",
       "      <th>Sex</th>\n",
       "      <td>0</td>\n",
       "      <td>0.000000</td>\n",
       "      <td>object</td>\n",
       "    </tr>\n",
       "    <tr>\n",
       "      <th>Age</th>\n",
       "      <td>177</td>\n",
       "      <td>19.865320</td>\n",
       "      <td>float64</td>\n",
       "    </tr>\n",
       "    <tr>\n",
       "      <th>SibSp</th>\n",
       "      <td>0</td>\n",
       "      <td>0.000000</td>\n",
       "      <td>int64</td>\n",
       "    </tr>\n",
       "    <tr>\n",
       "      <th>Parch</th>\n",
       "      <td>0</td>\n",
       "      <td>0.000000</td>\n",
       "      <td>int64</td>\n",
       "    </tr>\n",
       "    <tr>\n",
       "      <th>Ticket</th>\n",
       "      <td>0</td>\n",
       "      <td>0.000000</td>\n",
       "      <td>object</td>\n",
       "    </tr>\n",
       "    <tr>\n",
       "      <th>Fare</th>\n",
       "      <td>0</td>\n",
       "      <td>0.000000</td>\n",
       "      <td>float64</td>\n",
       "    </tr>\n",
       "    <tr>\n",
       "      <th>Cabin</th>\n",
       "      <td>687</td>\n",
       "      <td>77.104377</td>\n",
       "      <td>object</td>\n",
       "    </tr>\n",
       "    <tr>\n",
       "      <th>Embarked</th>\n",
       "      <td>2</td>\n",
       "      <td>0.224467</td>\n",
       "      <td>object</td>\n",
       "    </tr>\n",
       "  </tbody>\n",
       "</table>\n",
       "</div>"
      ],
      "text/plain": [
       "             Total    Percent    Types\n",
       "PassengerId      0   0.000000    int64\n",
       "Survived         0   0.000000    int64\n",
       "Pclass           0   0.000000    int64\n",
       "Name             0   0.000000   object\n",
       "Sex              0   0.000000   object\n",
       "Age            177  19.865320  float64\n",
       "SibSp            0   0.000000    int64\n",
       "Parch            0   0.000000    int64\n",
       "Ticket           0   0.000000   object\n",
       "Fare             0   0.000000  float64\n",
       "Cabin          687  77.104377   object\n",
       "Embarked         2   0.224467   object"
      ]
     },
     "execution_count": 6,
     "metadata": {},
     "output_type": "execute_result"
    }
   ],
   "source": [
    "# Missing test data\n",
    "missing_data(test_df)"
   ]
  },
  {
   "cell_type": "markdown",
   "id": "b5109172",
   "metadata": {
    "papermill": {
     "duration": 0.029638,
     "end_time": "2023-04-09T13:32:45.074364",
     "exception": false,
     "start_time": "2023-04-09T13:32:45.044726",
     "status": "completed"
    },
    "tags": []
   },
   "source": [
    "### Most frequent data"
   ]
  },
  {
   "cell_type": "markdown",
   "id": "56b3f58d",
   "metadata": {},
   "source": [
    "Training Data"
   ]
  },
  {
   "cell_type": "code",
   "execution_count": 7,
   "id": "4eebf73d",
   "metadata": {
    "execution": {
     "iopub.execute_input": "2023-04-09T13:32:45.209562Z",
     "iopub.status.busy": "2023-04-09T13:32:45.208882Z",
     "iopub.status.idle": "2023-04-09T13:32:45.243467Z",
     "shell.execute_reply": "2023-04-09T13:32:45.242558Z"
    },
    "papermill": {
     "duration": 0.068629,
     "end_time": "2023-04-09T13:32:45.245938",
     "exception": false,
     "start_time": "2023-04-09T13:32:45.177309",
     "status": "completed"
    },
    "tags": []
   },
   "outputs": [
    {
     "data": {
      "text/html": [
       "<div>\n",
       "<style scoped>\n",
       "    .dataframe tbody tr th:only-of-type {\n",
       "        vertical-align: middle;\n",
       "    }\n",
       "\n",
       "    .dataframe tbody tr th {\n",
       "        vertical-align: top;\n",
       "    }\n",
       "\n",
       "    .dataframe thead th {\n",
       "        text-align: right;\n",
       "    }\n",
       "</style>\n",
       "<table border=\"1\" class=\"dataframe\">\n",
       "  <thead>\n",
       "    <tr style=\"text-align: right;\">\n",
       "      <th></th>\n",
       "      <th>Total</th>\n",
       "      <th>Most frequent item</th>\n",
       "      <th>Frequence</th>\n",
       "      <th>Percent from total</th>\n",
       "    </tr>\n",
       "  </thead>\n",
       "  <tbody>\n",
       "    <tr>\n",
       "      <th>PassengerId</th>\n",
       "      <td>891</td>\n",
       "      <td>891</td>\n",
       "      <td>1</td>\n",
       "      <td>0.112</td>\n",
       "    </tr>\n",
       "    <tr>\n",
       "      <th>Survived</th>\n",
       "      <td>891</td>\n",
       "      <td>0</td>\n",
       "      <td>549</td>\n",
       "      <td>61.616</td>\n",
       "    </tr>\n",
       "    <tr>\n",
       "      <th>Pclass</th>\n",
       "      <td>891</td>\n",
       "      <td>3</td>\n",
       "      <td>491</td>\n",
       "      <td>55.107</td>\n",
       "    </tr>\n",
       "    <tr>\n",
       "      <th>Name</th>\n",
       "      <td>891</td>\n",
       "      <td>Dooley, Mr. Patrick</td>\n",
       "      <td>1</td>\n",
       "      <td>0.112</td>\n",
       "    </tr>\n",
       "    <tr>\n",
       "      <th>Sex</th>\n",
       "      <td>891</td>\n",
       "      <td>male</td>\n",
       "      <td>577</td>\n",
       "      <td>64.759</td>\n",
       "    </tr>\n",
       "    <tr>\n",
       "      <th>Age</th>\n",
       "      <td>714</td>\n",
       "      <td>24.0</td>\n",
       "      <td>30</td>\n",
       "      <td>4.202</td>\n",
       "    </tr>\n",
       "    <tr>\n",
       "      <th>SibSp</th>\n",
       "      <td>891</td>\n",
       "      <td>0</td>\n",
       "      <td>608</td>\n",
       "      <td>68.238</td>\n",
       "    </tr>\n",
       "    <tr>\n",
       "      <th>Parch</th>\n",
       "      <td>891</td>\n",
       "      <td>0</td>\n",
       "      <td>678</td>\n",
       "      <td>76.094</td>\n",
       "    </tr>\n",
       "    <tr>\n",
       "      <th>Ticket</th>\n",
       "      <td>891</td>\n",
       "      <td>347082</td>\n",
       "      <td>7</td>\n",
       "      <td>0.786</td>\n",
       "    </tr>\n",
       "    <tr>\n",
       "      <th>Fare</th>\n",
       "      <td>891</td>\n",
       "      <td>8.05</td>\n",
       "      <td>43</td>\n",
       "      <td>4.826</td>\n",
       "    </tr>\n",
       "    <tr>\n",
       "      <th>Cabin</th>\n",
       "      <td>204</td>\n",
       "      <td>G6</td>\n",
       "      <td>4</td>\n",
       "      <td>1.961</td>\n",
       "    </tr>\n",
       "    <tr>\n",
       "      <th>Embarked</th>\n",
       "      <td>889</td>\n",
       "      <td>S</td>\n",
       "      <td>644</td>\n",
       "      <td>72.441</td>\n",
       "    </tr>\n",
       "  </tbody>\n",
       "</table>\n",
       "</div>"
      ],
      "text/plain": [
       "             Total   Most frequent item  Frequence  Percent from total\n",
       "PassengerId    891                  891          1               0.112\n",
       "Survived       891                    0        549              61.616\n",
       "Pclass         891                    3        491              55.107\n",
       "Name           891  Dooley, Mr. Patrick          1               0.112\n",
       "Sex            891                 male        577              64.759\n",
       "Age            714                 24.0         30               4.202\n",
       "SibSp          891                    0        608              68.238\n",
       "Parch          891                    0        678              76.094\n",
       "Ticket         891               347082          7               0.786\n",
       "Fare           891                 8.05         43               4.826\n",
       "Cabin          204                   G6          4               1.961\n",
       "Embarked       889                    S        644              72.441"
      ]
     },
     "execution_count": 7,
     "metadata": {},
     "output_type": "execute_result"
    }
   ],
   "source": [
    "\n",
    "most_frequent_data(train_df)"
   ]
  },
  {
   "cell_type": "markdown",
   "id": "39233fea",
   "metadata": {},
   "source": [
    "Testing Data"
   ]
  },
  {
   "cell_type": "code",
   "execution_count": 8,
   "id": "f41e5126",
   "metadata": {
    "execution": {
     "iopub.execute_input": "2023-04-09T13:32:45.308398Z",
     "iopub.status.busy": "2023-04-09T13:32:45.307969Z",
     "iopub.status.idle": "2023-04-09T13:32:45.338304Z",
     "shell.execute_reply": "2023-04-09T13:32:45.336857Z"
    },
    "papermill": {
     "duration": 0.065008,
     "end_time": "2023-04-09T13:32:45.340867",
     "exception": false,
     "start_time": "2023-04-09T13:32:45.275859",
     "status": "completed"
    },
    "tags": []
   },
   "outputs": [
    {
     "data": {
      "text/html": [
       "<div>\n",
       "<style scoped>\n",
       "    .dataframe tbody tr th:only-of-type {\n",
       "        vertical-align: middle;\n",
       "    }\n",
       "\n",
       "    .dataframe tbody tr th {\n",
       "        vertical-align: top;\n",
       "    }\n",
       "\n",
       "    .dataframe thead th {\n",
       "        text-align: right;\n",
       "    }\n",
       "</style>\n",
       "<table border=\"1\" class=\"dataframe\">\n",
       "  <thead>\n",
       "    <tr style=\"text-align: right;\">\n",
       "      <th></th>\n",
       "      <th>Total</th>\n",
       "      <th>Most frequent item</th>\n",
       "      <th>Frequence</th>\n",
       "      <th>Percent from total</th>\n",
       "    </tr>\n",
       "  </thead>\n",
       "  <tbody>\n",
       "    <tr>\n",
       "      <th>PassengerId</th>\n",
       "      <td>891</td>\n",
       "      <td>891</td>\n",
       "      <td>1</td>\n",
       "      <td>0.112</td>\n",
       "    </tr>\n",
       "    <tr>\n",
       "      <th>Survived</th>\n",
       "      <td>891</td>\n",
       "      <td>0</td>\n",
       "      <td>549</td>\n",
       "      <td>61.616</td>\n",
       "    </tr>\n",
       "    <tr>\n",
       "      <th>Pclass</th>\n",
       "      <td>891</td>\n",
       "      <td>3</td>\n",
       "      <td>491</td>\n",
       "      <td>55.107</td>\n",
       "    </tr>\n",
       "    <tr>\n",
       "      <th>Name</th>\n",
       "      <td>891</td>\n",
       "      <td>Dooley, Mr. Patrick</td>\n",
       "      <td>1</td>\n",
       "      <td>0.112</td>\n",
       "    </tr>\n",
       "    <tr>\n",
       "      <th>Sex</th>\n",
       "      <td>891</td>\n",
       "      <td>male</td>\n",
       "      <td>577</td>\n",
       "      <td>64.759</td>\n",
       "    </tr>\n",
       "    <tr>\n",
       "      <th>Age</th>\n",
       "      <td>714</td>\n",
       "      <td>24.0</td>\n",
       "      <td>30</td>\n",
       "      <td>4.202</td>\n",
       "    </tr>\n",
       "    <tr>\n",
       "      <th>SibSp</th>\n",
       "      <td>891</td>\n",
       "      <td>0</td>\n",
       "      <td>608</td>\n",
       "      <td>68.238</td>\n",
       "    </tr>\n",
       "    <tr>\n",
       "      <th>Parch</th>\n",
       "      <td>891</td>\n",
       "      <td>0</td>\n",
       "      <td>678</td>\n",
       "      <td>76.094</td>\n",
       "    </tr>\n",
       "    <tr>\n",
       "      <th>Ticket</th>\n",
       "      <td>891</td>\n",
       "      <td>347082</td>\n",
       "      <td>7</td>\n",
       "      <td>0.786</td>\n",
       "    </tr>\n",
       "    <tr>\n",
       "      <th>Fare</th>\n",
       "      <td>891</td>\n",
       "      <td>8.05</td>\n",
       "      <td>43</td>\n",
       "      <td>4.826</td>\n",
       "    </tr>\n",
       "    <tr>\n",
       "      <th>Cabin</th>\n",
       "      <td>204</td>\n",
       "      <td>G6</td>\n",
       "      <td>4</td>\n",
       "      <td>1.961</td>\n",
       "    </tr>\n",
       "    <tr>\n",
       "      <th>Embarked</th>\n",
       "      <td>889</td>\n",
       "      <td>S</td>\n",
       "      <td>644</td>\n",
       "      <td>72.441</td>\n",
       "    </tr>\n",
       "  </tbody>\n",
       "</table>\n",
       "</div>"
      ],
      "text/plain": [
       "             Total   Most frequent item  Frequence  Percent from total\n",
       "PassengerId    891                  891          1               0.112\n",
       "Survived       891                    0        549              61.616\n",
       "Pclass         891                    3        491              55.107\n",
       "Name           891  Dooley, Mr. Patrick          1               0.112\n",
       "Sex            891                 male        577              64.759\n",
       "Age            714                 24.0         30               4.202\n",
       "SibSp          891                    0        608              68.238\n",
       "Parch          891                    0        678              76.094\n",
       "Ticket         891               347082          7               0.786\n",
       "Fare           891                 8.05         43               4.826\n",
       "Cabin          204                   G6          4               1.961\n",
       "Embarked       889                    S        644              72.441"
      ]
     },
     "execution_count": 8,
     "metadata": {},
     "output_type": "execute_result"
    }
   ],
   "source": [
    "most_frequent_data(test_df)"
   ]
  },
  {
   "cell_type": "markdown",
   "id": "23d18c8b",
   "metadata": {
    "papermill": {
     "duration": 0.029988,
     "end_time": "2023-04-09T13:32:45.401178",
     "exception": false,
     "start_time": "2023-04-09T13:32:45.371190",
     "status": "completed"
    },
    "tags": []
   },
   "source": [
    "### Unique values"
   ]
  },
  {
   "cell_type": "markdown",
   "id": "c32052c6",
   "metadata": {},
   "source": [
    "Training Data"
   ]
  },
  {
   "cell_type": "code",
   "execution_count": 9,
   "id": "f09fd047",
   "metadata": {
    "execution": {
     "iopub.execute_input": "2023-04-09T13:32:45.463926Z",
     "iopub.status.busy": "2023-04-09T13:32:45.463429Z",
     "iopub.status.idle": "2023-04-09T13:32:45.469932Z",
     "shell.execute_reply": "2023-04-09T13:32:45.469031Z"
    },
    "papermill": {
     "duration": 0.040924,
     "end_time": "2023-04-09T13:32:45.472353",
     "exception": false,
     "start_time": "2023-04-09T13:32:45.431429",
     "status": "completed"
    },
    "tags": []
   },
   "outputs": [
    {
     "data": {
      "text/html": [
       "<div>\n",
       "<style scoped>\n",
       "    .dataframe tbody tr th:only-of-type {\n",
       "        vertical-align: middle;\n",
       "    }\n",
       "\n",
       "    .dataframe tbody tr th {\n",
       "        vertical-align: top;\n",
       "    }\n",
       "\n",
       "    .dataframe thead th {\n",
       "        text-align: right;\n",
       "    }\n",
       "</style>\n",
       "<table border=\"1\" class=\"dataframe\">\n",
       "  <thead>\n",
       "    <tr style=\"text-align: right;\">\n",
       "      <th></th>\n",
       "      <th>PassengerId</th>\n",
       "      <th>Survived</th>\n",
       "      <th>Pclass</th>\n",
       "      <th>Name</th>\n",
       "      <th>Sex</th>\n",
       "      <th>Age</th>\n",
       "      <th>SibSp</th>\n",
       "      <th>Parch</th>\n",
       "      <th>Ticket</th>\n",
       "      <th>Fare</th>\n",
       "      <th>Cabin</th>\n",
       "      <th>Embarked</th>\n",
       "    </tr>\n",
       "  </thead>\n",
       "  <tbody>\n",
       "    <tr>\n",
       "      <th>Total</th>\n",
       "      <td>891</td>\n",
       "      <td>891</td>\n",
       "      <td>891</td>\n",
       "      <td>891</td>\n",
       "      <td>891</td>\n",
       "      <td>714</td>\n",
       "      <td>891</td>\n",
       "      <td>891</td>\n",
       "      <td>891</td>\n",
       "      <td>891</td>\n",
       "      <td>204</td>\n",
       "      <td>889</td>\n",
       "    </tr>\n",
       "    <tr>\n",
       "      <th>Uniques</th>\n",
       "      <td>891</td>\n",
       "      <td>2</td>\n",
       "      <td>3</td>\n",
       "      <td>891</td>\n",
       "      <td>2</td>\n",
       "      <td>88</td>\n",
       "      <td>7</td>\n",
       "      <td>7</td>\n",
       "      <td>681</td>\n",
       "      <td>248</td>\n",
       "      <td>147</td>\n",
       "      <td>3</td>\n",
       "    </tr>\n",
       "  </tbody>\n",
       "</table>\n",
       "</div>"
      ],
      "text/plain": [
       "         PassengerId  Survived  Pclass  Name  Sex  Age  SibSp  Parch  Ticket  \\\n",
       "Total            891       891     891   891  891  714    891    891     891   \n",
       "Uniques          891         2       3   891    2   88      7      7     681   \n",
       "\n",
       "         Fare  Cabin  Embarked  \n",
       "Total     891    204       889  \n",
       "Uniques   248    147         3  "
      ]
     },
     "execution_count": 9,
     "metadata": {},
     "output_type": "execute_result"
    }
   ],
   "source": [
    "unique_values_summary(train_df)"
   ]
  },
  {
   "cell_type": "markdown",
   "id": "c6e92017",
   "metadata": {},
   "source": [
    "Testing Data"
   ]
  },
  {
   "cell_type": "code",
   "execution_count": 10,
   "id": "225a84a4",
   "metadata": {
    "execution": {
     "iopub.execute_input": "2023-04-09T13:32:45.536435Z",
     "iopub.status.busy": "2023-04-09T13:32:45.535529Z",
     "iopub.status.idle": "2023-04-09T13:32:45.556243Z",
     "shell.execute_reply": "2023-04-09T13:32:45.554903Z"
    },
    "papermill": {
     "duration": 0.055267,
     "end_time": "2023-04-09T13:32:45.559112",
     "exception": false,
     "start_time": "2023-04-09T13:32:45.503845",
     "status": "completed"
    },
    "tags": []
   },
   "outputs": [
    {
     "data": {
      "text/html": [
       "<div>\n",
       "<style scoped>\n",
       "    .dataframe tbody tr th:only-of-type {\n",
       "        vertical-align: middle;\n",
       "    }\n",
       "\n",
       "    .dataframe tbody tr th {\n",
       "        vertical-align: top;\n",
       "    }\n",
       "\n",
       "    .dataframe thead th {\n",
       "        text-align: right;\n",
       "    }\n",
       "</style>\n",
       "<table border=\"1\" class=\"dataframe\">\n",
       "  <thead>\n",
       "    <tr style=\"text-align: right;\">\n",
       "      <th></th>\n",
       "      <th>PassengerId</th>\n",
       "      <th>Survived</th>\n",
       "      <th>Pclass</th>\n",
       "      <th>Name</th>\n",
       "      <th>Sex</th>\n",
       "      <th>Age</th>\n",
       "      <th>SibSp</th>\n",
       "      <th>Parch</th>\n",
       "      <th>Ticket</th>\n",
       "      <th>Fare</th>\n",
       "      <th>Cabin</th>\n",
       "      <th>Embarked</th>\n",
       "    </tr>\n",
       "  </thead>\n",
       "  <tbody>\n",
       "    <tr>\n",
       "      <th>Total</th>\n",
       "      <td>891</td>\n",
       "      <td>891</td>\n",
       "      <td>891</td>\n",
       "      <td>891</td>\n",
       "      <td>891</td>\n",
       "      <td>714</td>\n",
       "      <td>891</td>\n",
       "      <td>891</td>\n",
       "      <td>891</td>\n",
       "      <td>891</td>\n",
       "      <td>204</td>\n",
       "      <td>889</td>\n",
       "    </tr>\n",
       "    <tr>\n",
       "      <th>Uniques</th>\n",
       "      <td>891</td>\n",
       "      <td>2</td>\n",
       "      <td>3</td>\n",
       "      <td>891</td>\n",
       "      <td>2</td>\n",
       "      <td>88</td>\n",
       "      <td>7</td>\n",
       "      <td>7</td>\n",
       "      <td>681</td>\n",
       "      <td>248</td>\n",
       "      <td>147</td>\n",
       "      <td>3</td>\n",
       "    </tr>\n",
       "  </tbody>\n",
       "</table>\n",
       "</div>"
      ],
      "text/plain": [
       "         PassengerId  Survived  Pclass  Name  Sex  Age  SibSp  Parch  Ticket  \\\n",
       "Total            891       891     891   891  891  714    891    891     891   \n",
       "Uniques          891         2       3   891    2   88      7      7     681   \n",
       "\n",
       "         Fare  Cabin  Embarked  \n",
       "Total     891    204       889  \n",
       "Uniques   248    147         3  "
      ]
     },
     "execution_count": 10,
     "metadata": {},
     "output_type": "execute_result"
    }
   ],
   "source": [
    "unique_values_summary(test_df)"
   ]
  },
  {
   "cell_type": "markdown",
   "id": "38c3b074",
   "metadata": {
    "papermill": {
     "duration": 0.031049,
     "end_time": "2023-04-09T13:32:45.711070",
     "exception": false,
     "start_time": "2023-04-09T13:32:45.680021",
     "status": "completed"
    },
    "tags": []
   },
   "source": [
    "# Exploratory data analysis"
   ]
  },
  {
   "cell_type": "markdown",
   "id": "495b05f1",
   "metadata": {
    "papermill": {
     "duration": 0.030333,
     "end_time": "2023-04-09T13:32:45.773288",
     "exception": false,
     "start_time": "2023-04-09T13:32:45.742955",
     "status": "completed"
    },
    "tags": []
   },
   "source": [
    "## Univariate analysis for all features\n",
    "\n",
    "\n",
    "We show here two graphs in paralel:\n",
    "* distribution of class values, split per Survived value\n",
    "* comparison of class values, in train and test data\n",
    "\n",
    "\n",
    "Let's first aggregate train and test data into one single dataframe, `all_df`."
   ]
  },
  {
   "cell_type": "code",
   "execution_count": 11,
   "id": "db80b4b8",
   "metadata": {},
   "outputs": [],
   "source": [
    "all_df = combine_train_test(train_df, test_df, \"Survived\")"
   ]
  },
  {
   "cell_type": "code",
   "execution_count": 12,
   "id": "63514a48",
   "metadata": {},
   "outputs": [
    {
     "data": {
      "image/png": "[encoded data removed]",
      "text/plain": [
       "<Figure size 800x400 with 1 Axes>"
      ]
     },
     "metadata": {},
     "output_type": "display_data"
    }
   ],
   "source": [
    "# Plot count pairs \"Sex\"\n",
    "f, ax = plt.subplots(1, 1, figsize=(8, 4))\n",
    "sns.countplot(x=\"Sex\", data=all_df, hue=\"set\", palette=\"bright\")\n",
    "plt.grid(color=\"black\", linestyle=\"-.\", linewidth=0.5, axis=\"y\", which=\"major\")\n",
    "ax.set_title(\"Number of passengers / Sex\")\n",
    "plt.show()  \n",
    "plt.savefig(\"figures/number of passengers by sex.png\")"
   ]
  },
  {
   "cell_type": "code",
   "execution_count": 13,
   "id": "a9d14ee4",
   "metadata": {},
   "outputs": [
    {
     "data": {
      "image/png": "[encoded data removed]",
      "text/plain": [
       "<Figure size 800x400 with 1 Axes>"
      ]
     },
     "metadata": {},
     "output_type": "display_data"
    }
   ],
   "source": [
    "# Plot distribution pairs for \"Sex\" and hue as \"Survived\"\n",
    "color_list = [\"#A5D7E8\", \"#576CBC\", \"#19376D\", \"#0b2447\"]\n",
    "f, ax = plt.subplots(1, 1, figsize=(8, 4))\n",
    "for i, h in enumerate(train_df[\"Survived\"].unique()):\n",
    "    g = sns.histplot(train_df.loc[train_df[\"Survived\"]==h, \"Sex\"], \n",
    "                                  color=color_list[i], \n",
    "                                  ax=ax, \n",
    "                                  label=h)\n",
    "ax.set_title(\"Number of passengers / Sex\")\n",
    "g.legend()\n",
    "plt.show()"
   ]
  },
  {
   "cell_type": "markdown",
   "id": "a9b45219",
   "metadata": {
    "papermill": {
     "duration": 0.037641,
     "end_time": "2023-04-09T13:32:52.114502",
     "exception": false,
     "start_time": "2023-04-09T13:32:52.076861",
     "status": "completed"
    },
    "tags": []
   },
   "source": [
    "## Family size\n",
    "\n",
    "\n",
    "Based on SibSp (sibilings or spouse) and Parch (parents or children), we set the Family Size field."
   ]
  },
  {
   "cell_type": "code",
   "execution_count": 14,
   "id": "5836df98",
   "metadata": {
    "execution": {
     "iopub.execute_input": "2023-04-09T13:32:52.192880Z",
     "iopub.status.busy": "2023-04-09T13:32:52.192410Z",
     "iopub.status.idle": "2023-04-09T13:32:52.198908Z",
     "shell.execute_reply": "2023-04-09T13:32:52.197822Z"
    },
    "papermill": {
     "duration": 0.048281,
     "end_time": "2023-04-09T13:32:52.201022",
     "exception": false,
     "start_time": "2023-04-09T13:32:52.152741",
     "status": "completed"
    },
    "tags": []
   },
   "outputs": [],
   "source": [
    "all_df = add_family_size(all_df)\n",
    "train_df = add_family_size(train_df)\n",
    "test_df = add_family_size(test_df)\n"
   ]
  },
  {
   "cell_type": "markdown",
   "id": "3deb3497",
   "metadata": {
    "papermill": {
     "duration": 0.039742,
     "end_time": "2023-04-09T13:32:53.124517",
     "exception": false,
     "start_time": "2023-04-09T13:32:53.084775",
     "status": "completed"
    },
    "tags": []
   },
   "source": [
    "## Age interval"
   ]
  },
  {
   "cell_type": "code",
   "execution_count": 15,
   "id": "d3f2cc96",
   "metadata": {
    "execution": {
     "iopub.execute_input": "2023-04-09T13:32:53.206624Z",
     "iopub.status.busy": "2023-04-09T13:32:53.205765Z",
     "iopub.status.idle": "2023-04-09T13:32:53.218451Z",
     "shell.execute_reply": "2023-04-09T13:32:53.217502Z"
    },
    "papermill": {
     "duration": 0.056998,
     "end_time": "2023-04-09T13:32:53.221006",
     "exception": false,
     "start_time": "2023-04-09T13:32:53.164008",
     "status": "completed"
    },
    "tags": []
   },
   "outputs": [],
   "source": [
    "\n",
    "all_df = add_age_interval(all_df)\n",
    "train_df = add_age_interval(train_df)\n",
    "test_df = add_age_interval(test_df)\n"
   ]
  },
  {
   "cell_type": "markdown",
   "id": "ef0f76d4",
   "metadata": {
    "papermill": {
     "duration": 0.040927,
     "end_time": "2023-04-09T13:32:54.149697",
     "exception": false,
     "start_time": "2023-04-09T13:32:54.108770",
     "status": "completed"
    },
    "tags": []
   },
   "source": [
    "## Fare interval"
   ]
  },
  {
   "cell_type": "code",
   "execution_count": 16,
   "id": "650276ee",
   "metadata": {
    "execution": {
     "iopub.execute_input": "2023-04-09T13:32:54.332150Z",
     "iopub.status.busy": "2023-04-09T13:32:54.331087Z",
     "iopub.status.idle": "2023-04-09T13:32:54.342077Z",
     "shell.execute_reply": "2023-04-09T13:32:54.340822Z"
    },
    "papermill": {
     "duration": 0.05683,
     "end_time": "2023-04-09T13:32:54.345078",
     "exception": false,
     "start_time": "2023-04-09T13:32:54.288248",
     "status": "completed"
    },
    "tags": []
   },
   "outputs": [],
   "source": [
    "all_df = add_fare_interval_column(all_df)\n",
    "train_df = add_fare_interval_column(train_df)\n",
    "test_df = add_fare_interval_column(test_df)"
   ]
  },
  {
   "cell_type": "markdown",
   "id": "0bbc5973",
   "metadata": {
    "papermill": {
     "duration": 0.041281,
     "end_time": "2023-04-09T13:32:54.696212",
     "exception": false,
     "start_time": "2023-04-09T13:32:54.654931",
     "status": "completed"
    },
    "tags": []
   },
   "source": [
    "## P-class + Sex"
   ]
  },
  {
   "cell_type": "code",
   "execution_count": 17,
   "id": "971eb69e",
   "metadata": {},
   "outputs": [],
   "source": [
    "all_df = add_sex_pclass(all_df)\n",
    "train_df = add_sex_pclass(train_df)\n",
    "test_df = add_sex_pclass(test_df)"
   ]
  },
  {
   "cell_type": "markdown",
   "id": "3a78a93b",
   "metadata": {
    "papermill": {
     "duration": 0.043148,
     "end_time": "2023-04-09T13:32:56.548549",
     "exception": false,
     "start_time": "2023-04-09T13:32:56.505401",
     "status": "completed"
    },
    "tags": []
   },
   "source": [
    "## Process names\n",
    "\n",
    "\n",
    "When we process names, we would like to extract the following information:\n",
    "\n",
    "- Family name - this is the first word (or few first words, if a family name with multiple names), followed by a comma  \n",
    "- Title - this follows just after the comma   \n",
    "- Given name - this is the word or group of words following family name  \n",
    "- Maiden name - for ladies, is given between parantheses  \n",
    "\n",
    "We start with creating a function that parses the Name string and extract (if possible) these 4 elements\n"
   ]
  },
  {
   "cell_type": "code",
   "execution_count": 18,
   "id": "d14fccde",
   "metadata": {},
   "outputs": [],
   "source": [
    "all_df = extract_names(all_df)\n",
    "train_df = extract_names(train_df)\n",
    "test_df = extract_names(test_df)"
   ]
  },
  {
   "cell_type": "markdown",
   "id": "a66ebda5",
   "metadata": {
    "papermill": {
     "duration": 0.086205,
     "end_time": "2023-04-09T13:33:04.669504",
     "exception": false,
     "start_time": "2023-04-09T13:33:04.583299",
     "status": "completed"
    },
    "tags": []
   },
   "source": [
    "## Multivariate analysis\n",
    "\n",
    "\n",
    "Let's look now to the interaction of multiple features."
   ]
  },
  {
   "cell_type": "code",
   "execution_count": 19,
   "id": "c6f99b7f",
   "metadata": {
    "execution": {
     "iopub.execute_input": "2023-04-09T13:33:05.296837Z",
     "iopub.status.busy": "2023-04-09T13:33:05.295977Z",
     "iopub.status.idle": "2023-04-09T13:33:05.576799Z",
     "shell.execute_reply": "2023-04-09T13:33:05.575541Z"
    },
    "papermill": {
     "duration": 0.370555,
     "end_time": "2023-04-09T13:33:05.579497",
     "exception": false,
     "start_time": "2023-04-09T13:33:05.208942",
     "status": "completed"
    },
    "tags": []
   },
   "outputs": [],
   "source": [
    "# TODO: Plot count pairs of \"Age Interval\" grouped by \"Pclass\"\n",
    "def plot_age_interval_by_pclass(df):\n",
    "    \"\"\"\n",
    "    Plot count of 'Age Interval' grouped by 'Pclass'.\n",
    "\n",
    "    Parameters:\n",
    "    df (pd.DataFrame): The DataFrame containing 'Age Interval' and 'Pclass' columns.\n",
    "    \"\"\"\n",
    "    # Group by 'Pclass' and 'Age Interval' and count occurrences\n",
    "    count_data = df.groupby(['Pclass', 'Age Interval']).size().reset_index(name='Count')\n",
    "\n",
    "    # Create the plot\n",
    "    plt.figure(figsize=(10, 6))\n",
    "    sns.barplot(x='Pclass', y='Count', hue='Age Interval', data=count_data, palette='viridis')\n",
    "    \n",
    "    # Adding title and labels\n",
    "    plt.title('Count of Age Intervals by Passenger Class')\n",
    "    plt.xlabel('Passenger Class')\n",
    "    plt.ylabel('Count')\n",
    "    plt.legend(title='Age Interval')\n",
    "    plt.xticks(rotation=0)\n",
    "    plt.tight_layout()\n",
    "    plt.show()"
   ]
  },
  {
   "cell_type": "code",
   "execution_count": 20,
   "id": "2ed6af14",
   "metadata": {
    "execution": {
     "iopub.execute_input": "2023-04-09T13:33:06.653514Z",
     "iopub.status.busy": "2023-04-09T13:33:06.652512Z",
     "iopub.status.idle": "2023-04-09T13:33:06.921452Z",
     "shell.execute_reply": "2023-04-09T13:33:06.920271Z"
    },
    "papermill": {
     "duration": 0.36104,
     "end_time": "2023-04-09T13:33:06.924241",
     "exception": false,
     "start_time": "2023-04-09T13:33:06.563201",
     "status": "completed"
    },
    "tags": []
   },
   "outputs": [],
   "source": [
    "# TODO: Plot count pairs of \"Pclass\" grouped by \"Fare Interval\"\n",
    "\n",
    "def plot_pclass_by_fare_interval(df):\n",
    "    \"\"\"\n",
    "    Plot count of 'Pclass' grouped by 'Fare Interval'.\n",
    "\n",
    "    Parameters:\n",
    "    df (pd.DataFrame): The DataFrame containing 'Pclass' and 'Fare Interval' columns.\n",
    "    \"\"\"\n",
    "    # Group by 'Fare Interval' and 'Pclass' and count occurrences\n",
    "    count_data = df.groupby(['Fare Interval', 'Pclass']).size().reset_index(name='Count')\n",
    "\n",
    "    # Create the plot\n",
    "    plt.figure(figsize=(10, 6))\n",
    "    sns.barplot(x='Fare Interval', y='Count', hue='Pclass', data=count_data, palette='viridis')\n",
    "    \n",
    "    # Adding title and labels\n",
    "    plt.title('Count of Passenger Class by Fare Interval')\n",
    "    plt.xlabel('Fare Interval')\n",
    "    plt.ylabel('Count')\n",
    "    plt.legend(title='Pclass')\n",
    "    plt.xticks(rotation=45)\n",
    "    plt.tight_layout()\n",
    "    plt.show()"
   ]
  },
  {
   "cell_type": "markdown",
   "id": "24e6cfde",
   "metadata": {
    "papermill": {
     "duration": 0.094321,
     "end_time": "2023-04-09T13:33:12.087427",
     "exception": false,
     "start_time": "2023-04-09T13:33:11.993106",
     "status": "completed"
    },
    "tags": []
   },
   "source": [
    "### Few more engineered data \n",
    "\n",
    "\n",
    "Let's create two more engineered features:  \n",
    "* Family size interval: Single, Small, Large  \n",
    "* Aggregated titles: Mr, Mrs, Master, Miss, and Rare  "
   ]
  },
  {
   "cell_type": "code",
   "execution_count": 21,
   "id": "8750f33a",
   "metadata": {
    "execution": {
     "iopub.execute_input": "2023-04-09T13:33:12.286324Z",
     "iopub.status.busy": "2023-04-09T13:33:12.285408Z",
     "iopub.status.idle": "2023-04-09T13:33:12.292210Z",
     "shell.execute_reply": "2023-04-09T13:33:12.291252Z"
    },
    "papermill": {
     "duration": 0.108468,
     "end_time": "2023-04-09T13:33:12.294946",
     "exception": false,
     "start_time": "2023-04-09T13:33:12.186478",
     "status": "completed"
    },
    "tags": []
   },
   "outputs": [],
   "source": [
    "add_family_type_column([all_df, train_df, test_df])"
   ]
  },
  {
   "cell_type": "code",
   "execution_count": 22,
   "id": "084b0171",
   "metadata": {
    "execution": {
     "iopub.execute_input": "2023-04-09T13:33:12.491821Z",
     "iopub.status.busy": "2023-04-09T13:33:12.490955Z",
     "iopub.status.idle": "2023-04-09T13:33:12.503269Z",
     "shell.execute_reply": "2023-04-09T13:33:12.502125Z"
    },
    "papermill": {
     "duration": 0.113944,
     "end_time": "2023-04-09T13:33:12.505983",
     "exception": false,
     "start_time": "2023-04-09T13:33:12.392039",
     "status": "completed"
    },
    "tags": []
   },
   "outputs": [
    {
     "name": "stderr",
     "output_type": "stream",
     "text": [
      "/home/trapfishscott/Cambridge24.25/D400_FODS/titanic_problem_set/clean_data.py:149: FutureWarning: Setting an item of incompatible dtype is deprecated and will raise an error in a future version of pandas. Value 'Single' has dtype incompatible with int64, please explicitly cast to a compatible dtype first.\n",
      "  dataset.loc[dataset[\"Family Size\"] == 1, \"Family Type\"] = \"Single\"\n",
      "/home/trapfishscott/Cambridge24.25/D400_FODS/titanic_problem_set/clean_data.py:149: FutureWarning: Setting an item of incompatible dtype is deprecated and will raise an error in a future version of pandas. Value 'Single' has dtype incompatible with int64, please explicitly cast to a compatible dtype first.\n",
      "  dataset.loc[dataset[\"Family Size\"] == 1, \"Family Type\"] = \"Single\"\n",
      "/home/trapfishscott/Cambridge24.25/D400_FODS/titanic_problem_set/clean_data.py:149: FutureWarning: Setting an item of incompatible dtype is deprecated and will raise an error in a future version of pandas. Value 'Single' has dtype incompatible with int64, please explicitly cast to a compatible dtype first.\n",
      "  dataset.loc[dataset[\"Family Size\"] == 1, \"Family Type\"] = \"Single\"\n"
     ]
    }
   ],
   "source": [
    "assign_family_type([all_df, train_df, test_df])"
   ]
  },
  {
   "cell_type": "code",
   "execution_count": 23,
   "id": "e24ae982",
   "metadata": {
    "execution": {
     "iopub.execute_input": "2023-04-09T13:33:12.699667Z",
     "iopub.status.busy": "2023-04-09T13:33:12.699264Z",
     "iopub.status.idle": "2023-04-09T13:33:12.705377Z",
     "shell.execute_reply": "2023-04-09T13:33:12.704166Z"
    },
    "papermill": {
     "duration": 0.105912,
     "end_time": "2023-04-09T13:33:12.707971",
     "exception": false,
     "start_time": "2023-04-09T13:33:12.602059",
     "status": "completed"
    },
    "tags": []
   },
   "outputs": [],
   "source": [
    "for dataset in [all_df, train_df, test_df]:\n",
    "    dataset[\"Titles\"] = dataset[\"Title\"]"
   ]
  },
  {
   "cell_type": "code",
   "execution_count": 24,
   "id": "1b021724",
   "metadata": {},
   "outputs": [],
   "source": [
    "all_datasets = [all_df, train_df, test_df]"
   ]
  },
  {
   "cell_type": "code",
   "execution_count": 28,
   "id": "a19485da",
   "metadata": {},
   "outputs": [
    {
     "data": {
      "text/plain": [
       "0      0\n",
       "1      1\n",
       "2      1\n",
       "3      1\n",
       "4      0\n",
       "      ..\n",
       "886    0\n",
       "887    1\n",
       "888    0\n",
       "889    1\n",
       "890    0\n",
       "Name: Survived, Length: 1782, dtype: int64"
      ]
     },
     "execution_count": 28,
     "metadata": {},
     "output_type": "execute_result"
    }
   ],
   "source": [
    "all_df[\"Survived\"]"
   ]
  },
  {
   "cell_type": "code",
   "execution_count": 27,
   "id": "7319144f",
   "metadata": {},
   "outputs": [
    {
     "data": {
      "text/html": [
       "<div>\n",
       "<style scoped>\n",
       "    .dataframe tbody tr th:only-of-type {\n",
       "        vertical-align: middle;\n",
       "    }\n",
       "\n",
       "    .dataframe tbody tr th {\n",
       "        vertical-align: top;\n",
       "    }\n",
       "\n",
       "    .dataframe thead th {\n",
       "        text-align: right;\n",
       "    }\n",
       "</style>\n",
       "<table border=\"1\" class=\"dataframe\">\n",
       "  <thead>\n",
       "    <tr style=\"text-align: right;\">\n",
       "      <th></th>\n",
       "      <th>Titles</th>\n",
       "      <th>Sex</th>\n",
       "      <th>Survived</th>\n",
       "    </tr>\n",
       "  </thead>\n",
       "  <tbody>\n",
       "    <tr>\n",
       "      <th>0</th>\n",
       "      <td>Master.</td>\n",
       "      <td>0</td>\n",
       "      <td>0.575000</td>\n",
       "    </tr>\n",
       "    <tr>\n",
       "      <th>1</th>\n",
       "      <td>Miss.</td>\n",
       "      <td>1</td>\n",
       "      <td>0.702703</td>\n",
       "    </tr>\n",
       "    <tr>\n",
       "      <th>2</th>\n",
       "      <td>Mr.</td>\n",
       "      <td>0</td>\n",
       "      <td>0.156673</td>\n",
       "    </tr>\n",
       "    <tr>\n",
       "      <th>3</th>\n",
       "      <td>Mrs.</td>\n",
       "      <td>1</td>\n",
       "      <td>0.793651</td>\n",
       "    </tr>\n",
       "    <tr>\n",
       "      <th>4</th>\n",
       "      <td>Rare</td>\n",
       "      <td>0</td>\n",
       "      <td>0.250000</td>\n",
       "    </tr>\n",
       "    <tr>\n",
       "      <th>5</th>\n",
       "      <td>Rare</td>\n",
       "      <td>1</td>\n",
       "      <td>1.000000</td>\n",
       "    </tr>\n",
       "  </tbody>\n",
       "</table>\n",
       "</div>"
      ],
      "text/plain": [
       "    Titles  Sex  Survived\n",
       "0  Master.    0  0.575000\n",
       "1    Miss.    1  0.702703\n",
       "2      Mr.    0  0.156673\n",
       "3     Mrs.    1  0.793651\n",
       "4     Rare    0  0.250000\n",
       "5     Rare    1  1.000000"
      ]
     },
     "execution_count": 27,
     "metadata": {},
     "output_type": "execute_result"
    }
   ],
   "source": [
    "def calculate_survival_rate_by_title_and_sex(dataset):\n",
    "    \"\"\"\n",
    "    Calculate the mean survival rate grouped by 'Titles' and 'Sex'.\n",
    "\n",
    "    Parameters:\n",
    "    dataset (pd.DataFrame): The DataFrame containing the relevant columns.\n",
    "\n",
    "    Returns:\n",
    "    pd.DataFrame: A DataFrame with the mean survival rates grouped by 'Titles' and 'Sex'.\n",
    "    \"\"\"\n",
    "    return dataset[['Titles', 'Sex', 'Survived']].groupby(['Titles', 'Sex'], as_index=False).mean()\n",
    "\n",
    "calculate_survival_rate_by_title_and_sex(all_df)"
   ]
  },
  {
   "cell_type": "code",
   "execution_count": 29,
   "id": "c2b26b86",
   "metadata": {},
   "outputs": [
    {
     "data": {
      "text/html": [
       "<div>\n",
       "<style scoped>\n",
       "    .dataframe tbody tr th:only-of-type {\n",
       "        vertical-align: middle;\n",
       "    }\n",
       "\n",
       "    .dataframe tbody tr th {\n",
       "        vertical-align: top;\n",
       "    }\n",
       "\n",
       "    .dataframe thead th {\n",
       "        text-align: right;\n",
       "    }\n",
       "</style>\n",
       "<table border=\"1\" class=\"dataframe\">\n",
       "  <thead>\n",
       "    <tr style=\"text-align: right;\">\n",
       "      <th></th>\n",
       "      <th>Titles</th>\n",
       "      <th>Sex</th>\n",
       "      <th>Survived</th>\n",
       "    </tr>\n",
       "  </thead>\n",
       "  <tbody>\n",
       "    <tr>\n",
       "      <th>0</th>\n",
       "      <td>Master.</td>\n",
       "      <td>0</td>\n",
       "      <td>0.575000</td>\n",
       "    </tr>\n",
       "    <tr>\n",
       "      <th>1</th>\n",
       "      <td>Miss.</td>\n",
       "      <td>1</td>\n",
       "      <td>0.702703</td>\n",
       "    </tr>\n",
       "    <tr>\n",
       "      <th>2</th>\n",
       "      <td>Mr.</td>\n",
       "      <td>0</td>\n",
       "      <td>0.156673</td>\n",
       "    </tr>\n",
       "    <tr>\n",
       "      <th>3</th>\n",
       "      <td>Mrs.</td>\n",
       "      <td>1</td>\n",
       "      <td>0.793651</td>\n",
       "    </tr>\n",
       "    <tr>\n",
       "      <th>4</th>\n",
       "      <td>Rare</td>\n",
       "      <td>0</td>\n",
       "      <td>0.250000</td>\n",
       "    </tr>\n",
       "    <tr>\n",
       "      <th>5</th>\n",
       "      <td>Rare</td>\n",
       "      <td>1</td>\n",
       "      <td>1.000000</td>\n",
       "    </tr>\n",
       "  </tbody>\n",
       "</table>\n",
       "</div>"
      ],
      "text/plain": [
       "    Titles  Sex  Survived\n",
       "0  Master.    0  0.575000\n",
       "1    Miss.    1  0.702703\n",
       "2      Mr.    0  0.156673\n",
       "3     Mrs.    1  0.793651\n",
       "4     Rare    0  0.250000\n",
       "5     Rare    1  1.000000"
      ]
     },
     "execution_count": 29,
     "metadata": {},
     "output_type": "execute_result"
    }
   ],
   "source": [
    "calculate_survival_rate_by_title_and_sex(train_df)"
   ]
  },
  {
   "cell_type": "code",
   "execution_count": 30,
   "id": "12f85185",
   "metadata": {},
   "outputs": [
    {
     "data": {
      "text/html": [
       "<div>\n",
       "<style scoped>\n",
       "    .dataframe tbody tr th:only-of-type {\n",
       "        vertical-align: middle;\n",
       "    }\n",
       "\n",
       "    .dataframe tbody tr th {\n",
       "        vertical-align: top;\n",
       "    }\n",
       "\n",
       "    .dataframe thead th {\n",
       "        text-align: right;\n",
       "    }\n",
       "</style>\n",
       "<table border=\"1\" class=\"dataframe\">\n",
       "  <thead>\n",
       "    <tr style=\"text-align: right;\">\n",
       "      <th></th>\n",
       "      <th>Titles</th>\n",
       "      <th>Sex</th>\n",
       "      <th>Survived</th>\n",
       "    </tr>\n",
       "  </thead>\n",
       "  <tbody>\n",
       "    <tr>\n",
       "      <th>0</th>\n",
       "      <td>Master.</td>\n",
       "      <td>0</td>\n",
       "      <td>0.575000</td>\n",
       "    </tr>\n",
       "    <tr>\n",
       "      <th>1</th>\n",
       "      <td>Miss.</td>\n",
       "      <td>1</td>\n",
       "      <td>0.702703</td>\n",
       "    </tr>\n",
       "    <tr>\n",
       "      <th>2</th>\n",
       "      <td>Mr.</td>\n",
       "      <td>0</td>\n",
       "      <td>0.156673</td>\n",
       "    </tr>\n",
       "    <tr>\n",
       "      <th>3</th>\n",
       "      <td>Mrs.</td>\n",
       "      <td>1</td>\n",
       "      <td>0.793651</td>\n",
       "    </tr>\n",
       "    <tr>\n",
       "      <th>4</th>\n",
       "      <td>Rare</td>\n",
       "      <td>0</td>\n",
       "      <td>0.250000</td>\n",
       "    </tr>\n",
       "    <tr>\n",
       "      <th>5</th>\n",
       "      <td>Rare</td>\n",
       "      <td>1</td>\n",
       "      <td>1.000000</td>\n",
       "    </tr>\n",
       "  </tbody>\n",
       "</table>\n",
       "</div>"
      ],
      "text/plain": [
       "    Titles  Sex  Survived\n",
       "0  Master.    0  0.575000\n",
       "1    Miss.    1  0.702703\n",
       "2      Mr.    0  0.156673\n",
       "3     Mrs.    1  0.793651\n",
       "4     Rare    0  0.250000\n",
       "5     Rare    1  1.000000"
      ]
     },
     "execution_count": 30,
     "metadata": {},
     "output_type": "execute_result"
    }
   ],
   "source": [
    "calculate_survival_rate_by_title_and_sex(test_df)"
   ]
  },
  {
   "cell_type": "code",
   "execution_count": 26,
   "id": "e697f326",
   "metadata": {},
   "outputs": [],
   "source": [
    "unify_titles(all_datasets)\n",
    "#calculate_survival_rate_by_title_and_sex(all_datasets)\n",
    "map_sex_column(all_datasets)"
   ]
  },
  {
   "cell_type": "markdown",
   "id": "fec7c474",
   "metadata": {
    "papermill": {
     "duration": 0.10356,
     "end_time": "2023-04-09T13:33:15.043186",
     "exception": false,
     "start_time": "2023-04-09T13:33:14.939626",
     "status": "completed"
    },
    "tags": []
   },
   "source": [
    "# Baseline model"
   ]
  },
  {
   "cell_type": "markdown",
   "id": "864616e1",
   "metadata": {
    "papermill": {
     "duration": 0.10099,
     "end_time": "2023-04-09T13:33:16.010380",
     "exception": false,
     "start_time": "2023-04-09T13:33:15.909390",
     "status": "completed"
    },
    "tags": []
   },
   "source": [
    "## Feature engineering: Map categorical value to numerical values"
   ]
  },
  {
   "cell_type": "markdown",
   "id": "6635df80",
   "metadata": {
    "papermill": {
     "duration": 0.101154,
     "end_time": "2023-04-09T13:33:16.423406",
     "exception": false,
     "start_time": "2023-04-09T13:33:16.322252",
     "status": "completed"
    },
    "tags": []
   },
   "source": [
    "Create train-validation split."
   ]
  },
  {
   "cell_type": "code",
   "execution_count": 33,
   "id": "328c85e2",
   "metadata": {
    "execution": {
     "iopub.execute_input": "2023-04-09T13:33:16.632663Z",
     "iopub.status.busy": "2023-04-09T13:33:16.631240Z",
     "iopub.status.idle": "2023-04-09T13:33:16.640631Z",
     "shell.execute_reply": "2023-04-09T13:33:16.639695Z"
    },
    "papermill": {
     "duration": 0.116133,
     "end_time": "2023-04-09T13:33:16.643139",
     "exception": false,
     "start_time": "2023-04-09T13:33:16.527006",
     "status": "completed"
    },
    "tags": []
   },
   "outputs": [],
   "source": [
    "VALID_SIZE = 0.2\n",
    "train, valid = train_test_split(train_df, test_size=VALID_SIZE, random_state=42, shuffle=True)"
   ]
  },
  {
   "cell_type": "markdown",
   "id": "7d7756ef",
   "metadata": {
    "papermill": {
     "duration": 0.0982,
     "end_time": "2023-04-09T13:33:16.839581",
     "exception": false,
     "start_time": "2023-04-09T13:33:16.741381",
     "status": "completed"
    },
    "tags": []
   },
   "source": [
    "Define predictor features and target feature."
   ]
  },
  {
   "cell_type": "code",
   "execution_count": 34,
   "id": "eb90547e",
   "metadata": {
    "execution": {
     "iopub.execute_input": "2023-04-09T13:33:17.044342Z",
     "iopub.status.busy": "2023-04-09T13:33:17.043685Z",
     "iopub.status.idle": "2023-04-09T13:33:17.049206Z",
     "shell.execute_reply": "2023-04-09T13:33:17.048067Z"
    },
    "papermill": {
     "duration": 0.11164,
     "end_time": "2023-04-09T13:33:17.051579",
     "exception": false,
     "start_time": "2023-04-09T13:33:16.939939",
     "status": "completed"
    },
    "tags": []
   },
   "outputs": [],
   "source": [
    "predictors = [\"Sex\", \"Pclass\"]\n",
    "target = 'Survived'"
   ]
  },
  {
   "cell_type": "markdown",
   "id": "c0b02c9f",
   "metadata": {
    "papermill": {
     "duration": 0.099538,
     "end_time": "2023-04-09T13:33:17.252933",
     "exception": false,
     "start_time": "2023-04-09T13:33:17.153395",
     "status": "completed"
    },
    "tags": []
   },
   "source": [
    "Define the training and validation data and labels."
   ]
  },
  {
   "cell_type": "code",
   "execution_count": 36,
   "id": "1f8b2807",
   "metadata": {
    "execution": {
     "iopub.execute_input": "2023-04-09T13:33:17.456588Z",
     "iopub.status.busy": "2023-04-09T13:33:17.455330Z",
     "iopub.status.idle": "2023-04-09T13:33:17.463172Z",
     "shell.execute_reply": "2023-04-09T13:33:17.462210Z"
    },
    "papermill": {
     "duration": 0.113017,
     "end_time": "2023-04-09T13:33:17.465660",
     "exception": false,
     "start_time": "2023-04-09T13:33:17.352643",
     "status": "completed"
    },
    "tags": []
   },
   "outputs": [],
   "source": [
    "# TODO: prepare_datasets\n",
    "\n",
    "train_X = ML.prepare_datasets(train=train, valid=valid, predictors=predictors, target=target)[0]\n",
    "train_Y = ML.prepare_datasets(train=train, valid=valid, predictors=predictors, target=target)[1]\n",
    "valid_X = ML.prepare_datasets(train=train, valid=valid, predictors=predictors, target=target)[2]\n",
    "valid_Y = ML.prepare_datasets(train=train, valid=valid, predictors=predictors, target=target)[3]\n"
   ]
  },
  {
   "cell_type": "markdown",
   "id": "6ee2d827",
   "metadata": {
    "papermill": {
     "duration": 0.098654,
     "end_time": "2023-04-09T13:33:17.664113",
     "exception": false,
     "start_time": "2023-04-09T13:33:17.565459",
     "status": "completed"
    },
    "tags": []
   },
   "source": [
    "Initialize the classifiction algorithm."
   ]
  },
  {
   "cell_type": "code",
   "execution_count": 37,
   "id": "f9324151",
   "metadata": {
    "execution": {
     "iopub.execute_input": "2023-04-09T13:33:17.865542Z",
     "iopub.status.busy": "2023-04-09T13:33:17.864275Z",
     "iopub.status.idle": "2023-04-09T13:33:17.870039Z",
     "shell.execute_reply": "2023-04-09T13:33:17.869160Z"
    },
    "papermill": {
     "duration": 0.109141,
     "end_time": "2023-04-09T13:33:17.872379",
     "exception": false,
     "start_time": "2023-04-09T13:33:17.763238",
     "status": "completed"
    },
    "tags": []
   },
   "outputs": [],
   "source": [
    "# TODO: train_and_predict_random_forest\n",
    "\n",
    "preds_train = ML.train_and_predict_random_forest(train_X=train_X, train_Y=train_Y, valid_X=valid_X, random_state=42, n_estimators=100, criterion=\"gini\")[0]\n",
    "preds_valid = ML.train_and_predict_random_forest(train_X=train_X, train_Y=train_Y, valid_X=valid_X, random_state=42, n_estimators=100, criterion=\"gini\")[1]"
   ]
  },
  {
   "cell_type": "markdown",
   "id": "642506e1",
   "metadata": {
    "papermill": {
     "duration": 0.099258,
     "end_time": "2023-04-09T13:33:18.070446",
     "exception": false,
     "start_time": "2023-04-09T13:33:17.971188",
     "status": "completed"
    },
    "tags": []
   },
   "source": [
    "Fit the classifier with the training data."
   ]
  },
  {
   "cell_type": "markdown",
   "id": "61fc9595",
   "metadata": {
    "papermill": {
     "duration": 0.10132,
     "end_time": "2023-04-09T13:33:18.747232",
     "exception": false,
     "start_time": "2023-04-09T13:33:18.645912",
     "status": "completed"
    },
    "tags": []
   },
   "source": [
    "Predict the train data (to check the training classification error)."
   ]
  },
  {
   "cell_type": "markdown",
   "id": "62b61af6",
   "metadata": {
    "papermill": {
     "duration": 0.099136,
     "end_time": "2023-04-09T13:33:19.263660",
     "exception": false,
     "start_time": "2023-04-09T13:33:19.164524",
     "status": "completed"
    },
    "tags": []
   },
   "source": [
    "Predict the validation data."
   ]
  },
  {
   "cell_type": "markdown",
   "id": "d994312c",
   "metadata": {
    "papermill": {
     "duration": 0.099652,
     "end_time": "2023-04-09T13:33:19.781425",
     "exception": false,
     "start_time": "2023-04-09T13:33:19.681773",
     "status": "completed"
    },
    "tags": []
   },
   "source": [
    "# Evaluation\n",
    "\n",
    "## Classification report for training data."
   ]
  },
  {
   "cell_type": "code",
   "execution_count": 40,
   "id": "62963993",
   "metadata": {
    "execution": {
     "iopub.execute_input": "2023-04-09T13:33:19.985235Z",
     "iopub.status.busy": "2023-04-09T13:33:19.983841Z",
     "iopub.status.idle": "2023-04-09T13:33:19.996204Z",
     "shell.execute_reply": "2023-04-09T13:33:19.994526Z"
    },
    "papermill": {
     "duration": 0.117754,
     "end_time": "2023-04-09T13:33:19.998936",
     "exception": false,
     "start_time": "2023-04-09T13:33:19.881182",
     "status": "completed"
    },
    "tags": []
   },
   "outputs": [
    {
     "name": "stdout",
     "output_type": "stream",
     "text": [
      "              precision    recall  f1-score   support\n",
      "\n",
      "Not Survived       0.75      0.99      0.86       444\n",
      "    Survived       0.96      0.47      0.63       268\n",
      "\n",
      "    accuracy                           0.79       712\n",
      "   macro avg       0.86      0.73      0.74       712\n",
      "weighted avg       0.83      0.79      0.77       712\n",
      "\n"
     ]
    }
   ],
   "source": [
    "print(metrics.classification_report(train_Y, preds_train, target_names=['Not Survived', 'Survived']))"
   ]
  },
  {
   "cell_type": "markdown",
   "id": "18fcb4f1",
   "metadata": {
    "papermill": {
     "duration": 0.100623,
     "end_time": "2023-04-09T13:33:20.206904",
     "exception": false,
     "start_time": "2023-04-09T13:33:20.106281",
     "status": "completed"
    },
    "tags": []
   },
   "source": [
    "Classification report for validation data."
   ]
  },
  {
   "cell_type": "code",
   "execution_count": 41,
   "id": "7c55f853",
   "metadata": {
    "execution": {
     "iopub.execute_input": "2023-04-09T13:33:20.409841Z",
     "iopub.status.busy": "2023-04-09T13:33:20.409379Z",
     "iopub.status.idle": "2023-04-09T13:33:20.421171Z",
     "shell.execute_reply": "2023-04-09T13:33:20.419836Z"
    },
    "papermill": {
     "duration": 0.115487,
     "end_time": "2023-04-09T13:33:20.423620",
     "exception": false,
     "start_time": "2023-04-09T13:33:20.308133",
     "status": "completed"
    },
    "tags": []
   },
   "outputs": [
    {
     "name": "stdout",
     "output_type": "stream",
     "text": [
      "              precision    recall  f1-score   support\n",
      "\n",
      "Not Survived       0.73      0.96      0.83       105\n",
      "    Survived       0.90      0.49      0.63        74\n",
      "\n",
      "    accuracy                           0.77       179\n",
      "   macro avg       0.81      0.72      0.73       179\n",
      "weighted avg       0.80      0.77      0.75       179\n",
      "\n"
     ]
    }
   ],
   "source": [
    "print(metrics.classification_report(valid_Y, preds_valid, target_names=['Not Survived', 'Survived']))"
   ]
  }
 ],
 "metadata": {
  "kernelspec": {
   "display_name": "titanic_PS_venv",
   "language": "python",
   "name": "python3"
  },
  "language_info": {
   "codemirror_mode": {
    "name": "ipython",
    "version": 3
   },
   "file_extension": ".py",
   "mimetype": "text/x-python",
   "name": "python",
   "nbconvert_exporter": "python",
   "pygments_lexer": "ipython3",
   "version": "3.12.3"
  },
  "papermill": {
   "default_parameters": {},
   "duration": 49.560621,
   "end_time": "2023-04-09T13:33:21.452362",
   "environment_variables": {},
   "exception": null,
   "input_path": "__notebook__.ipynb",
   "output_path": "__notebook__.ipynb",
   "parameters": {},
   "start_time": "2023-04-09T13:32:31.891741",
   "version": "2.4.0"
  }
 },
 "nbformat": 4,
 "nbformat_minor": 5
}
